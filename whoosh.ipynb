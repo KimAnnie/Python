{
 "cells": [
  {
   "cell_type": "code",
   "execution_count": 1,
   "metadata": {},
   "outputs": [
    {
     "name": "stderr",
     "output_type": "stream",
     "text": [
      "Building prefix dict from the default dictionary ...\n",
      "Loading model from cache C:\\Users\\deftu\\AppData\\Local\\Temp\\jieba.cache\n",
      "Loading model cost 0.985 seconds.\n",
      "Prefix dict has been built succesfully.\n"
     ]
    },
    {
     "name": "stdout",
     "output_type": "stream",
     "text": [
      "result of  水果世博园\n",
      "买<b class=\"match term0\">水果</b>然后来<b class=\"match term1\">世博园</b>\n",
      "==========\n",
      "result of  你\n",
      "second one <b class=\"match term0\">你</b> 中文测试中文 is even more interesting\n",
      "==========\n",
      "result of  first\n",
      "<b class=\"match term0\">first</b> document we’ve added\n",
      "==========\n",
      "result of  中文\n",
      "second one 你 <b class=\"match term0\">中文</b>测试<b class=\"match term0\">中文</b> is even more interesting\n",
      "==========\n",
      "result of  交换机\n",
      "干事每月经过下属科室都要亲口交代24口<b class=\"match term0\">交换机</b>等技术性器件的安装工作\n",
      "==========\n",
      "result of  交换\n",
      "咱俩<b class=\"match term0\">交换</b>一下吧\n",
      "干事每月经过下属科室都要亲口交代24口<b class=\"match term0\">交换</b>机等技术性器件的安装工作\n",
      "==========\n"
     ]
    }
   ],
   "source": [
    "# -*- coding: UTF-8 -*-\n",
    "from __future__ import unicode_literals\n",
    "import sys,os\n",
    "sys.path.append(\"../\")\n",
    "from whoosh.index import create_in,open_dir\n",
    "from whoosh.fields import *\n",
    "from whoosh.qparser import QueryParser\n",
    "\n",
    "from jieba.analyse.analyzer import ChineseAnalyzer\n",
    "\n",
    "analyzer = ChineseAnalyzer()\n",
    "\n",
    "#创建索引模型\n",
    "schema = Schema(title=TEXT(stored=True), path=ID(stored=True), content=TEXT(stored=True, analyzer=analyzer))\n",
    "#ID：只能为一个单元值，不能分割为若干个词，常用于文件路径、URL、日期、分类。\n",
    "#TEXT：文件的文本内容，建立文本的索引并存储，支持词汇搜索。\n",
    "#path：索引创建地址。\n",
    "#stored为True表示能够被检索\n",
    "\n",
    "#建立索引存储目录\n",
    "if not os.path.exists(\"tmp\"):\n",
    "    os.mkdir(\"tmp\")\n",
    "#如果目录tmp不存在则创建\n",
    "ix = create_in(\"tmp\", schema) #按照schema模式建立索引目录\n",
    "\n",
    "#写入索引文件\n",
    "writer = ix.writer()\n",
    "writer.add_document(\n",
    "    title=\"document1\",\n",
    "    path=\"/a\",\n",
    "    content=\"This is the first document we’ve added!\"\n",
    ")\n",
    "\n",
    "writer.add_document(\n",
    "    title=\"document2\",\n",
    "    path=\"/b\",\n",
    "    content=\"The second one 你 中文测试中文 is even more interesting! 吃水果\"\n",
    ")\n",
    "\n",
    "writer.add_document(\n",
    "    title=\"document3\",\n",
    "    path=\"/c\",\n",
    "    content=\"买水果然后来世博园。\"\n",
    ")\n",
    "\n",
    "writer.add_document(\n",
    "    title=\"document4\",\n",
    "    path=\"/c\",\n",
    "    content=\"工信处女干事每月经过下属科室都要亲口交代24口交换机等技术性器件的安装工作\"\n",
    ")\n",
    "\n",
    "writer.add_document(\n",
    "    title=\"document4\",\n",
    "    path=\"/c\",\n",
    "    content=\"咱俩交换一下吧。\"\n",
    ")\n",
    "\n",
    "writer.commit() #将添加的文档保存到索引\n",
    "\n",
    "#检索\n",
    "searcher = ix.searcher() #创建一个检索器\n",
    "parser = QueryParser(\"content\", schema=ix.schema)\n",
    "\n",
    "for keyword in (\"水果世博园\",\"你\",\"first\",\"中文\",\"交换机\",\"交换\"): \n",
    "    #keyword：用空格或者逗号分隔的关键词，可以被索引和搜索，不支持词汇搜索。\n",
    "    print(\"result of \",keyword)\n",
    "    q = parser.parse(keyword)\n",
    "    results = searcher.search(q)\n",
    "    for hit in results:\n",
    "        print(hit.highlights(\"content\"))\n",
    "    print(\"=\"*10)"
   ]
  },
  {
   "cell_type": "code",
   "execution_count": null,
   "metadata": {},
   "outputs": [],
   "source": []
  }
 ],
 "metadata": {
  "kernelspec": {
   "display_name": "Python 3",
   "language": "python",
   "name": "python3"
  },
  "language_info": {
   "codemirror_mode": {
    "name": "ipython",
    "version": 3
   },
   "file_extension": ".py",
   "mimetype": "text/x-python",
   "name": "python",
   "nbconvert_exporter": "python",
   "pygments_lexer": "ipython3",
   "version": "3.6.0"
  }
 },
 "nbformat": 4,
 "nbformat_minor": 2
}
