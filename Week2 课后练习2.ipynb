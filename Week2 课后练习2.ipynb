{
 "cells": [
  {
   "cell_type": "code",
   "execution_count": 1,
   "metadata": {},
   "outputs": [
    {
     "name": "stdout",
     "output_type": "stream",
     "text": [
      " !\"#$%&'()*+,-./0123\n",
      "456789:;<=>?@ABCDEFG\n",
      "HIJKLMNOPQRSTUVWXYZ[\n",
      "\\]^_`abcdefghijklmno\n",
      "pqrstuvwxyz{|}~\n"
     ]
    }
   ],
   "source": [
    "a = []\n",
    "x = ''\n",
    "y = ''\n",
    "z = ''\n",
    "b = ''\n",
    "c = ''\n",
    "for i in range (96):\n",
    "    a.append(chr(i + 32))\n",
    "for i in range (20):\n",
    "    x += a[i]\n",
    "print(x)\n",
    "for i in range (20, 40):\n",
    "    y += a[i]\n",
    "print(y)\n",
    "for i in range (40, 60):\n",
    "    z += a[i]\n",
    "print(z)\n",
    "for i in range (60, 80):\n",
    "    b += a[i]\n",
    "print(b)\n",
    "for i in range (80, 96):\n",
    "    c += a[i]\n",
    "print(c)"
   ]
  },
  {
   "cell_type": "code",
   "execution_count": null,
   "metadata": {},
   "outputs": [],
   "source": []
  }
 ],
 "metadata": {
  "kernelspec": {
   "display_name": "Python 3",
   "language": "python",
   "name": "python3"
  },
  "language_info": {
   "codemirror_mode": {
    "name": "ipython",
    "version": 3
   },
   "file_extension": ".py",
   "mimetype": "text/x-python",
   "name": "python",
   "nbconvert_exporter": "python",
   "pygments_lexer": "ipython3",
   "version": "3.6.0"
  }
 },
 "nbformat": 4,
 "nbformat_minor": 2
}
